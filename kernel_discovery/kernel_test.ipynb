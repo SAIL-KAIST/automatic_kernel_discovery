{
 "cells": [
  {
   "cell_type": "markdown",
   "source": [
    "Test hyperparameters initialization"
   ],
   "metadata": {}
  },
  {
   "cell_type": "code",
   "execution_count": 16,
   "source": [
    "import gpflow \n",
    "from kernel_discovery.kernel import RBF, Linear, Periodic, White\n",
    "import numpy as np\n",
    "from numpy.random import rand, normal\n",
    "from kernel_discovery.preprocessing import DataShape, get_datashape"
   ],
   "outputs": [],
   "metadata": {}
  },
  {
   "cell_type": "markdown",
   "source": [
    "Test RBF"
   ],
   "metadata": {}
  },
  {
   "cell_type": "code",
   "execution_count": 27,
   "source": [
    "def init_rbf(datashape_x: DataShape, datashape_y: DataShape, sd=1.):\n",
    "    \n",
    "    # lengthscale\n",
    "    if rand() < 0.5:\n",
    "        log_lengthscale = normal(loc=datashape_x.std, scale=sd)\n",
    "    else:\n",
    "        log_lengthscale = normal(loc=np.log(2*(datashape_x.max - datashape_x.min)),\n",
    "                                 scale=sd)\n",
    "\n",
    "    # variance\n",
    "    if rand() < 0.5:\n",
    "        log_variance = normal(loc=datashape_y.std, scale=sd)\n",
    "    else:\n",
    "        log_variance = normal(loc=0, scale=sd)\n",
    "\n",
    "    init_params = RBF(variance=np.exp(log_variance),\n",
    "                      lengthscales=np.exp(log_lengthscale)).parameters\n",
    "    return [p.numpy() for p in init_params]"
   ],
   "outputs": [],
   "metadata": {}
  },
  {
   "cell_type": "code",
   "execution_count": 28,
   "source": [
    "\n",
    "lengthscales = np.linspace(0.05, 3., 10)\n",
    "variances = np.linspace(0.05, 10, 10)\n",
    "\n",
    "x = np.linspace(0, 5, 100)[:,None]\n",
    "data_shape_x = get_datashape(x)\n",
    "\n",
    "for i in range(10):\n",
    "    kernel = RBF(variance=variances[i], lengthscales=lengthscales[i])\n",
    "    k = kernel.K(x)\n",
    "    k = k.numpy()\n",
    "    chol = np.linalg.cholesky(k + 1e-6*np.eye(100))\n",
    "    epsilon  = np.random.randn(100,1)\n",
    "    y = chol @ epsilon\n",
    "    data_shape_y = get_datashape(y)\n",
    "    init_param = init_rbf(data_shape_x, data_shape_y, sd=0.5)\n",
    "    print(\"=\"*20)\n",
    "    print(f\"Real parameter {lengthscales[i]}, {variances[i]}\")\n",
    "    print(f\"Init parameter {init_param}\")\n",
    "    \n",
    "    "
   ],
   "outputs": [
    {
     "output_type": "stream",
     "name": "stdout",
     "text": [
      "====================\n",
      "Real parameter 0.05, 0.05\n",
      "Init parameter [array(13.28500232), array(0.96973273)]\n",
      "====================\n",
      "Real parameter 0.37777777777777777, 1.1555555555555554\n",
      "Init parameter [array(2.94981324), array(2.69950964)]\n",
      "====================\n",
      "Real parameter 0.7055555555555556, 2.2611111111111106\n",
      "Init parameter [array(6.97376741), array(3.36331306)]\n",
      "====================\n",
      "Real parameter 1.0333333333333334, 3.3666666666666663\n",
      "Init parameter [array(6.67265334), array(3.73400281)]\n",
      "====================\n",
      "Real parameter 1.3611111111111112, 4.472222222222221\n",
      "Init parameter [array(5.07675323), array(2.13093314)]\n",
      "====================\n",
      "Real parameter 1.6888888888888889, 5.577777777777777\n",
      "Init parameter [array(17.18571305), array(2.65961167)]\n",
      "====================\n",
      "Real parameter 2.0166666666666666, 6.683333333333333\n",
      "Init parameter [array(2.92515545), array(1.36691075)]\n",
      "====================\n",
      "Real parameter 2.344444444444444, 7.788888888888888\n",
      "Init parameter [array(11.0724237), array(1.43218168)]\n",
      "====================\n",
      "Real parameter 2.672222222222222, 8.894444444444444\n",
      "Init parameter [array(33.66580483), array(0.82997625)]\n",
      "====================\n",
      "Real parameter 3.0, 10.0\n",
      "Init parameter [array(3.82655096), array(0.96268636)]\n"
     ]
    }
   ],
   "metadata": {}
  },
  {
   "cell_type": "code",
   "execution_count": 40,
   "source": [
    "def init_periodic(datashape_x: DataShape, datashape_y: DataShape, sd=1.):\n",
    "    \n",
    "    # lengthscales\n",
    "    log_lengthscale = normal(loc=0, scale=sd)\n",
    "\n",
    "    # periodicity\n",
    "    if rand() < 0.5:\n",
    "        # no mim_period\n",
    "        log_period = normal(loc=datashape_x.std-2., scale=sd)\n",
    "        # TODO: min_period\n",
    "    else:\n",
    "        log_period = normal(loc=np.log(datashape_x.max - datashape_x.min) - 3.2,\n",
    "                            scale=sd)\n",
    "        # TODO: min_period\n",
    "\n",
    "    # variance\n",
    "    if rand() < 0.5:\n",
    "        log_variance = normal(loc=datashape_y.std, scale=sd)\n",
    "    else:\n",
    "        log_variance = normal(loc=0., scale=sd)\n",
    "\n",
    "    init_params = Periodic(variance=np.exp(log_variance),\n",
    "                           lengthscales=np.exp(log_lengthscale),\n",
    "                           period=np.exp(log_period)).parameters\n",
    "    return [p.numpy() for p in init_params]"
   ],
   "outputs": [],
   "metadata": {}
  },
  {
   "cell_type": "code",
   "execution_count": 41,
   "source": [
    "periods = np.linspace(0.05, 5, 10)\n",
    "\n",
    "for i in range(10):\n",
    "    kernel = Periodic(period=periods[i])\n",
    "    k = kernel.K(x)\n",
    "    k = k.numpy()\n",
    "    chol = np.linalg.cholesky(k + 1e-6*np.eye(100))\n",
    "    epsilon  = np.random.randn(100,1)\n",
    "    y = chol @ epsilon\n",
    "    data_shape_y = get_datashape(y)\n",
    "    init_param = init_periodic(data_shape_x, data_shape_y, sd=1.)\n",
    "    \n",
    "    print(f\"Real param {periods[i]}\")\n",
    "    print(f\"Init param {init_param[0]}\")\n",
    "    print(\"=\"*20)\n",
    "\n"
   ],
   "outputs": [
    {
     "output_type": "stream",
     "name": "stdout",
     "text": [
      "Real param 0.05\n",
      "Init param 0.8524235248820111\n",
      "====================\n",
      "Real param 0.6000000000000001\n",
      "Init param 0.10598383559855826\n",
      "====================\n",
      "Real param 1.1500000000000001\n",
      "Init param 0.22533413201795982\n",
      "====================\n",
      "Real param 1.7000000000000002\n",
      "Init param 1.1850680964377898\n",
      "====================\n",
      "Real param 2.25\n",
      "Init param 0.9904751900889998\n",
      "====================\n",
      "Real param 2.8\n",
      "Init param 0.6668184361792288\n",
      "====================\n",
      "Real param 3.35\n",
      "Init param 0.3554378967440945\n",
      "====================\n",
      "Real param 3.9000000000000004\n",
      "Init param 0.06963470211142325\n",
      "====================\n",
      "Real param 4.45\n",
      "Init param 0.2032007852521709\n",
      "====================\n",
      "Real param 5.0\n",
      "Init param 0.7744524768106249\n",
      "====================\n"
     ]
    }
   ],
   "metadata": {}
  },
  {
   "cell_type": "code",
   "execution_count": 33,
   "source": [
    "def init_linear(datashape_x: DataShape, datashape_y: DataShape, sd=1.):\n",
    "    \n",
    "    r = rand()\n",
    "    if r < 1. / 3.:\n",
    "        log_variance = normal(loc=datashape_y.std - datashape_x.std, scale=sd)\n",
    "    elif r < 2. / 3:\n",
    "        dist_y = datashape_y.max - datashape_y.min\n",
    "        dist_x = datashape_x.max - datashape_x.min\n",
    "        loc = np.log(np.abs(dist_y / dist_x))\n",
    "        log_variance = normal(loc=loc, scale=sd)\n",
    "    else:\n",
    "        log_variance = normal(loc=0., scale=sd)\n",
    "        \n",
    "    location = np.random.uniform(low=2 * datashape_x.min - datashape_x.max,\n",
    "                                 high=2 * datashape_x.max - datashape_x.min)\n",
    "\n",
    "    init_params = Linear(variance=np.exp(log_variance), location=location).parameters\n",
    "    return [p.numpy() for p in init_params]"
   ],
   "outputs": [],
   "metadata": {}
  },
  {
   "cell_type": "code",
   "execution_count": 42,
   "source": [
    "for i in range(10):\n",
    "    k = Linear(variance=variances[i], location=2.5)\n",
    "    k = kernel.K(x)\n",
    "    k = k.numpy()\n",
    "    chol = np.linalg.cholesky(k + 1e-6*np.eye(100))\n",
    "    epsilon  = np.random.randn(100,1)\n",
    "    y = chol @ epsilon\n",
    "    data_shape_y = get_datashape(y)\n",
    "    init_param = init_periodic(data_shape_x, data_shape_y, sd=1.)\n",
    "    \n",
    "    print(\"=\"*20)\n",
    "    print(f\"Real param {variances[i]}\")\n",
    "    print(f\"Init param {init_param[1]}\")"
   ],
   "outputs": [
    {
     "output_type": "stream",
     "name": "stdout",
     "text": [
      "====================\n",
      "Real param 0.05\n",
      "Init param 1.8456277730837776\n",
      "====================\n",
      "Real param 1.1555555555555554\n",
      "Init param 5.747273288174298\n",
      "====================\n",
      "Real param 2.2611111111111106\n",
      "Init param 0.4388289725062545\n",
      "====================\n",
      "Real param 3.3666666666666663\n",
      "Init param 2.007641702981547\n",
      "====================\n",
      "Real param 4.472222222222221\n",
      "Init param 1.7554673383485406\n",
      "====================\n",
      "Real param 5.577777777777777\n",
      "Init param 0.8912238795273719\n",
      "====================\n",
      "Real param 6.683333333333333\n",
      "Init param 1.3942659132010515\n",
      "====================\n",
      "Real param 7.788888888888888\n",
      "Init param 2.8977881345363663\n",
      "====================\n",
      "Real param 8.894444444444444\n",
      "Init param 1.2382246286994185\n",
      "====================\n",
      "Real param 10.0\n",
      "Init param 0.853753117787976\n"
     ]
    }
   ],
   "metadata": {}
  },
  {
   "cell_type": "code",
   "execution_count": null,
   "source": [],
   "outputs": [],
   "metadata": {}
  }
 ],
 "metadata": {
  "orig_nbformat": 4,
  "language_info": {
   "name": "python",
   "version": "3.9.5",
   "mimetype": "text/x-python",
   "codemirror_mode": {
    "name": "ipython",
    "version": 3
   },
   "pygments_lexer": "ipython3",
   "nbconvert_exporter": "python",
   "file_extension": ".py"
  },
  "kernelspec": {
   "name": "python3",
   "display_name": "Python 3.9.5 64-bit ('automatic_news': conda)"
  },
  "interpreter": {
   "hash": "30bf701a59dd33d0581dffe9dce4f7217109f57c322309f7265fe9d1b7cb16bb"
  }
 },
 "nbformat": 4,
 "nbformat_minor": 2
}